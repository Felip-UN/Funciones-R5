{
  "nbformat": 4,
  "nbformat_minor": 0,
  "metadata": {
    "colab": {
      "provenance": []
    },
    "kernelspec": {
      "name": "python3",
      "display_name": "Python 3"
    },
    "language_info": {
      "name": "python"
    }
  },
  "cells": [
    {
      "cell_type": "markdown",
      "source": [
        "### 5. Escriba un programa que pida 5 números reales y calcule las siguientes operaciones usando una función para cada una:\n",
        "- El promedio\n",
        "- La mediana\n",
        "- El promedio multiplicativo (multilplica todos y luego calcula la raíz de la cantidad de operandos)\n",
        "- La potencia del mayor número elevado al menor número\n",
        "- La raíz cúbica del menor número"
      ],
      "metadata": {
        "id": "W5hqaGbRWCGY"
      }
    },
    {
      "cell_type": "code",
      "source": [
        "from functools import reduce\n",
        "\n",
        "a, b, c, d, e = map(int, input(\"Introduce 5 valores separados por espacio: \").split()) #Puede usar \"5 6 7 8 9\" el promedio deberia ser 7\n",
        "elementos=[a, b, c, d, e]\n",
        "print(\"Tus valores: \", elementos)\n",
        "promedio=sum(elementos) / len(elementos) #se puede cambiar el \"len(elementos)\" por un 5 ya que es el valor constante\n",
        "print(\"su promedio: \", promedio)\n",
        "mediana=elementos[2]\n",
        "print(\"sa mediana: \",mediana)\n",
        "\n",
        "izq_dre=reduce(lambda x, y: x * y, elementos) #multiplica los elementos de izquierda a derecha\n",
        "p_multiplicativo=izq_dre**(1/len(elementos)) #igualmente se puede cambiar el \"len(elementos)\" por un 5 ya que es el valor constante\n",
        "print(\"su promedio multiplicativo: \",p_multiplicativo)\n",
        "maxi=max(elementos)**min(elementos)\n",
        "print(\"la potencia del mayor número elevado al menor número: \",max(elementos),\"**\",min(elementos),\"=\",maxi)\n",
        "mini=min(elementos)**(1/3)\n",
        "print(\"la raíz cúbica del menor número: \",min(elementos),\"**(1/3) =\",mini)\n",
        "\n"
      ],
      "metadata": {
        "colab": {
          "base_uri": "https://localhost:8080/"
        },
        "id": "FHeMt4wyWEdv",
        "outputId": "c74a7441-befc-4b98-d48b-2653a25c3e38"
      },
      "execution_count": 26,
      "outputs": [
        {
          "output_type": "stream",
          "name": "stdout",
          "text": [
            "Introduce 5 valores separados por espacio: 5 6 7 8 9\n",
            "Tus valores:  [5, 6, 7, 8, 9]\n",
            "su promedio:  7.0\n",
            "sa mediana:  7\n",
            "su promedio multiplicativo:  6.853467509397648\n",
            "la potencia del mayor número elevado al menor número:  9 ** 5 = 59049\n",
            "la raíz cúbica del menor número:  5 **(1/3) = 1.7099759466766968\n"
          ]
        }
      ]
    }
  ]
}